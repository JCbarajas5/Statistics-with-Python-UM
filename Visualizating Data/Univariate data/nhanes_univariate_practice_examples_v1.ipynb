{
 "cells": [
  {
   "cell_type": "markdown",
   "metadata": {
    "id": "OItEH_MPegy8"
   },
   "source": [
    "# Practice notebook for univariate analysis using NHANES data\n",
    "\n",
    "# Example Solutions\n",
    "\n",
    "**This notebook contains one or or more code examples for the practice questions.**\n",
    "\n",
    "**Your code might be different. But the output should be the same.**\n",
    "\n",
    "**Do you have a alternate solution to a question? Share it with your peers on the course forum!**\n",
    "\n",
    "This notebook will give you the opportunity to perform some univariate analyses on your own using the NHANES data.  These analyses are similar to what was done in the week 2 NHANES case study notebook.\n",
    "\n",
    "You can enter your code into the cells that say \"enter your code here\", and you can type responses to the questions into the cells that say \"Type Markdown and Latex\".\n",
    "\n",
    "Note that most of the code that you will need to write below is very similar to code that appears in the case study notebook.  You will need to edit code from that notebook in small ways to adapt it to the prompts below.\n",
    "\n",
    "To get started, we will use the same module imports and read the data in the same way as we did in the case study:"
   ]
  },
  {
   "cell_type": "code",
   "execution_count": null,
   "metadata": {
    "id": "VYr-RBa5egzC"
   },
   "outputs": [],
   "source": [
    "# import the usual libraries\n",
    "import matplotlib.pyplot as plt\n",
    "import seaborn as sns\n",
    "import pandas as pd\n",
    "import numpy as np"
   ]
  },
  {
   "cell_type": "code",
   "execution_count": null,
   "metadata": {
    "id": "y6H0m9tERX9C"
   },
   "outputs": [],
   "source": [
    "# set the display.max_columns option to None so that all columns will display\n",
    "pd.set_option('display.max_columns', None)\n",
    "\n",
    "# read the nhanes csv file\n",
    "da = pd.read_csv(\"nhanes_2015_2016.csv\")"
   ]
  },
  {
   "cell_type": "code",
   "execution_count": null,
   "metadata": {
    "id": "8-3NsV7Rr0UO"
   },
   "outputs": [],
   "source": [
    "# browse the variables\n",
    "# the variable code book is available at https://wwwn.cdc.gov/Nchs/Nhanes/2015-2016/DEMO_I.htm\n",
    "da.columns"
   ]
  },
  {
   "cell_type": "code",
   "execution_count": null,
   "metadata": {
    "id": "ldf43dzyU15Q"
   },
   "outputs": [],
   "source": [
    "# browse the data\n",
    "da.head(10)"
   ]
  },
  {
   "cell_type": "markdown",
   "metadata": {
    "id": "YUJ_9yecegzE"
   },
   "source": [
    "## Question 1\n",
    "\n",
    "Relabel the marital status variable [DMDMARTL](https://wwwn.cdc.gov/Nchs/Nhanes/2015-2016/DEMO_I.htm#DMDMARTL) to have brief but informative character labels.  Then construct a frequency table of these values for all people, then for women only and for men only.  Then construct these three frequency tables using only people whose age is between 30 and 40.\n",
    "\n",
    "https://wwwn.cdc.gov/Nchs/Nhanes/2015-2016/DEMO_I.htm\n",
    "\n",
    "https://pandas.pydata.org/docs/reference/api/pandas.Series.value_counts.html\n",
    "\n",
    "https://pandas.pydata.org/pandas-docs/stable/reference/api/pandas.DataFrame.groupby.html\n",
    "\n",
    "https://pandas.pydata.org/docs/reference/api/pandas.cut.html\n",
    "\n",
    "https://pandas.pydata.org/docs/reference/api/pandas.interval_range.html"
   ]
  },
  {
   "cell_type": "code",
   "execution_count": null,
   "metadata": {
    "id": "TtQTZDotYotx"
   },
   "outputs": [],
   "source": [
    "# if necessary reload the nhanes csv file to avoid possible data \"contamination\" from previous work\n",
    "da = pd.read_csv(\"nhanes_2015_2016.csv\")"
   ]
  },
  {
   "cell_type": "code",
   "execution_count": null,
   "metadata": {
    "id": "zsN-7oJGb78M"
   },
   "outputs": [],
   "source": [
    "# make copy of the dataframe to protect the original\n",
    "da_mod = da.copy()\n",
    "\n",
    "# relabel DMDMARTL\n",
    "rmar = {1: \"Married\", 2: \"Widowed\", 3: \"Divorced\", 4: \"Separated\", 5: \"NeverMarried\", 6: \"Cohabitating\", 77: \"Refused\", 99: \"Unknown\"}\n",
    "da_mod[\"DMDMARTLx\"] = da_mod[\"DMDMARTL\"].replace(rmar)\n",
    "\n",
    "# relabel RIAGENDR\n",
    "rgen = {1: \"Male\", 2: \"Female\"}\n",
    "da_mod[\"RIAGENDRx\"] = da_mod[\"RIAGENDR\"].replace(rgen)\n",
    "\n",
    "# drop the variables that we don't need\n",
    "da_mod = da_mod[[\"RIAGENDRx\", \"RIDAGEYR\", \"DMDMARTLx\"]]"
   ]
  },
  {
   "cell_type": "code",
   "execution_count": null,
   "metadata": {
    "id": "bCctk-_wegzF"
   },
   "outputs": [],
   "source": [
    "# frequency table for all subjects\n",
    "# uncomment print(x / x.sum()) for proportions instead of counts\n",
    "print(\"All Subjects\")\n",
    "x = da_mod[\"DMDMARTLx\"].value_counts()\n",
    "#print(x / x.sum())\n",
    "print(x)\n",
    "\n",
    "# frequency table by gender\n",
    "for ky,db in da_mod.groupby(\"RIAGENDRx\"):\n",
    "    print(\"\\nRIAGENDRx =\", ky)\n",
    "    x = db[\"DMDMARTLx\"].value_counts()\n",
    "    #print(x / x.sum())\n",
    "    print(x)\n",
    "\n",
    "# create new dataframe restricted to subjects between 30 and 40 (inclusive)\n",
    "da3040 = da_mod.query('RIDAGEYR >= 30 & RIDAGEYR <= 40').copy()\n",
    "\n",
    "# frequency table for all subjects\n",
    "print(\"\\nAll Subjects 30 <= RIDAGEYR <= 40\")\n",
    "x = da3040[\"DMDMARTLx\"].value_counts()\n",
    "#print(x / x.sum())\n",
    "print(x)\n",
    "\n",
    "# frequency table by RIAGENDRx\n",
    "for ky,db in da3040.groupby(\"RIAGENDRx\"):\n",
    "    print(\"\\nRIAGENDRx =\", ky, \"30 <= RIDAGEYR <= 40\")\n",
    "    x = db[\"DMDMARTLx\"].value_counts()\n",
    "    #print(x / x.sum())\n",
    "    print(x)\n",
    "\n",
    "# another way to generate the age-restricted frequency table...\n",
    "\n",
    "# create a closed interval range from 30 to 40\n",
    "#binrange = pd.interval_range(start=30, end=40, periods=1, closed='both')\n",
    "\n",
    "# create the 30-40 'bin' variable\n",
    "#da_mod[\"agegrp\"] = pd.cut(da_mod.RIDAGEYR, binrange)\n",
    "\n",
    "# what does agegroup look like?\n",
    "#print(da_mod.agegrp.value_counts(dropna=False))\n",
    "\n",
    "# frequency table for all subjects\n",
    "#x = da_mod.groupby([\"agegrp\"])[\"DMDMARTLx\"].value_counts()\n",
    "#print(\"\\nAll Subjects 30 <= RIDAGEYR <= 40\")\n",
    "#print(x)\n",
    "\n",
    "# frequency table by RIAGENDRx\n",
    "#x = da_mod.groupby([\"agegrp\", \"RIAGENDRx\"])[\"DMDMARTLx\"].value_counts()\n",
    "#print(\"\\nMales and Females 30 <= RIDAGEYR <= 40\")\n",
    "#print(x)"
   ]
  },
  {
   "cell_type": "markdown",
   "metadata": {
    "id": "XWBYs0e7egzG"
   },
   "source": [
    "__Q1a.__ What are the differences (if any) that you observe in the distribution of marital status between females and males?\n",
    "\n"
   ]
  },
  {
   "cell_type": "raw",
   "metadata": {
    "id": "9N26QvcUo0GM"
   },
   "source": []
  },
  {
   "cell_type": "markdown",
   "metadata": {
    "id": "A7m6TLxVegzH"
   },
   "source": [
    "__Q1b.__ What are the differences (if any) that you observe in the distribution of marital status between females overall and females aged 30 to 40?"
   ]
  },
  {
   "cell_type": "raw",
   "metadata": {
    "id": "N9vsPetao42A"
   },
   "source": []
  },
  {
   "cell_type": "markdown",
   "metadata": {
    "id": "2ChCpPBAegzI"
   },
   "source": [
    "__Q1c.__ Repeat part Q1b for males."
   ]
  },
  {
   "cell_type": "raw",
   "metadata": {
    "id": "NcUcWB8Mo6Q1"
   },
   "source": []
  },
  {
   "cell_type": "markdown",
   "metadata": {
    "id": "UwWmrOy5egzI"
   },
   "source": [
    "## Question 2\n",
    "\n",
    "Restricting to the female population, stratify the subjects into age bands no wider than ten years, and construct the distribution of marital status within each age band.  Within each age band, present the distribution in terms of proportions that must sum to 1."
   ]
  },
  {
   "cell_type": "code",
   "execution_count": null,
   "metadata": {
    "id": "a6sefw3pesBv"
   },
   "outputs": [],
   "source": [
    "# if necessary reload the nhanes csv file to avoid possible data \"contamination\" from previous work\n",
    "da = pd.read_csv(\"nhanes_2015_2016.csv\")"
   ]
  },
  {
   "cell_type": "code",
   "execution_count": null,
   "metadata": {
    "id": "ibFgnPoPet7y"
   },
   "outputs": [],
   "source": [
    "# make copy of the dataframe to protect the original\n",
    "da_mod = da.copy()\n",
    "\n",
    "# relabel DMDMARTL\n",
    "rmar = {1: \"Married\", 2: \"Widowed\", 3: \"Divorced\", 4: \"Separated\", 5: \"NeverMarried\", 6: \"Cohabitating\", 77: \"Refused\", 99: \"Unknown\"}\n",
    "da_mod[\"DMDMARTLx\"] = da_mod[\"DMDMARTL\"].replace(rmar)\n",
    "\n",
    "# drop the variables that we don't need\n",
    "da_mod = da_mod[[\"RIAGENDR\", \"RIDAGEYR\", \"DMDMARTLx\"]]"
   ]
  },
  {
   "cell_type": "code",
   "execution_count": null,
   "metadata": {
    "id": "6ca34367egzK"
   },
   "outputs": [],
   "source": [
    "# one possible solution uses the math library\n",
    "import math\n",
    "\n",
    "# restrict the dataset to females only\n",
    "da_mod = da_mod.query('RIAGENDR == 2').copy()\n",
    "\n",
    "# calculate the minimum and maximum ages\n",
    "minage = min(da_mod.RIDAGEYR)\n",
    "maxage = max(da_mod.RIDAGEYR)\n",
    "\n",
    "# one way to create the list of bins so that the first bin is closed on the left\n",
    "bins = [minage] + list(range(int(math.ceil(minage/10)) * 10, int(math.ceil(maxage/10)) * 10, 10)) + [maxage]\n",
    "\n",
    "# another way to create the list of bins without using the math library\n",
    "# bins = [18, 20, 30, 40, 50, 60, 70, 80]\n",
    "#print(bins)\n",
    "\n",
    "# create labels for the bins\n",
    "labels = [f\"({bins[i]}, {bins[i+1]}]\" if(i) else f\"[{bins[i]}, {bins[i+1]}]\" for i in range(len(bins)-1)]\n",
    "\n",
    "# create the agegrp \"bins\" variable\n",
    "da_mod[\"agegrp\"] = pd.cut(da_mod.RIDAGEYR, bins, labels=labels, include_lowest = True)\n",
    "\n",
    "# what does agegroup look like?\n",
    "#print(da_mod.agegrp.value_counts(dropna=False))\n",
    "\n",
    "# what does DMDMARTLx look like? Any rare or missing values?\n",
    "#print(da_mod.DMDMARTLx.value_counts(dropna=False))\n",
    "\n",
    "# distribution of marital status\n",
    "dx = da_mod.loc[~da_mod.DMDMARTLx.isin([\"Refused\", np.nan]), :]  # drop rare/missing values\n",
    "dx = dx.groupby([\"agegrp\"])[\"DMDMARTLx\"]\n",
    "dx = dx.value_counts()\n",
    "dx = dx.unstack() # Restructure the results from 'long' to 'wide'\n",
    "dx = dx.apply(lambda x: x/x.sum(), axis=1) # Normalize within each stratum to get proportions\n",
    "print(\"Females\")\n",
    "print(dx.to_string(float_format=\"%.3f\"))  # Limit display to 3 decimal places\n",
    "\n",
    "# alternative that replaces NaN with 0\n",
    "#print(dx.fillna(0).to_string(float_format=\"%.3f\"))"
   ]
  },
  {
   "cell_type": "markdown",
   "metadata": {
    "id": "kzrjpBd0egzK"
   },
   "source": [
    "__Q2a.__ What trends (if any) do you see in this series of marginal distributions?"
   ]
  },
  {
   "cell_type": "raw",
   "metadata": {
    "id": "YmUh2AYppBnA"
   },
   "source": []
  },
  {
   "cell_type": "markdown",
   "metadata": {
    "id": "I3juL2YvegzL"
   },
   "source": [
    "__Q2b.__ Repeat the analysis for males."
   ]
  },
  {
   "cell_type": "raw",
   "metadata": {
    "id": "rWovVxsHpKIZ"
   },
   "source": []
  },
  {
   "cell_type": "code",
   "execution_count": null,
   "metadata": {
    "id": "NFelwEIumU59"
   },
   "outputs": [],
   "source": [
    "# if necessary reload the nhanes csv file to avoid possible data \"contamination\" from previous work\n",
    "da = pd.read_csv(\"nhanes_2015_2016.csv\")"
   ]
  },
  {
   "cell_type": "code",
   "execution_count": null,
   "metadata": {
    "id": "7bsAjkR-mVT3"
   },
   "outputs": [],
   "source": [
    "# make copy of the dataframe to protect the original\n",
    "da_mod = da.copy()\n",
    "\n",
    "# relabel DMDMARTL\n",
    "rmar = {1: \"Married\", 2: \"Widowed\", 3: \"Divorced\", 4: \"Separated\", 5: \"NeverMarried\", 6: \"Cohabitating\", 77: \"Refused\", 99: \"Unknown\"}\n",
    "da_mod[\"DMDMARTLx\"] = da_mod[\"DMDMARTL\"].replace(rmar)\n",
    "\n",
    "# drop the variables that we don't need\n",
    "da_mod = da_mod[[\"RIAGENDR\", \"RIDAGEYR\", \"DMDMARTLx\"]]"
   ]
  },
  {
   "cell_type": "code",
   "execution_count": null,
   "metadata": {
    "id": "DUAEltZkmVtb"
   },
   "outputs": [],
   "source": [
    "# one possible solution uses the math library\n",
    "import math\n",
    "\n",
    "# restrict the dataset to males only\n",
    "da_mod = da_mod.query('RIAGENDR == 1').copy()\n",
    "\n",
    "# calculate the minimum and maximum ages\n",
    "minage = min(da_mod.RIDAGEYR)\n",
    "maxage = max(da_mod.RIDAGEYR)\n",
    "\n",
    "# one way to create the list of bins so that the first bin is closed on the left\n",
    "bins = [minage] + list(range(int(math.ceil(minage/10)) * 10, int(math.ceil(maxage/10)) * 10, 10)) + [maxage]\n",
    "\n",
    "# another (manual) way to create the list of bins without using the math library\n",
    "# bins = [18, 20, 30, 40, 50, 60, 70, 80]\n",
    "#print(bins)\n",
    "\n",
    "# create labels for the bins\n",
    "labels = [f\"({bins[i]}, {bins[i+1]}]\" if(i) else f\"[{bins[i]}, {bins[i+1]}]\" for i in range(len(bins)-1)]\n",
    "\n",
    "# create the agegrp \"bins\" variable\n",
    "da_mod[\"agegrp\"] = pd.cut(da_mod.RIDAGEYR, bins, labels=labels, include_lowest = True)\n",
    "\n",
    "# what does agegroup look like?\n",
    "#print(da_mod.agegrp.value_counts(dropna=False))\n",
    "\n",
    "# what does DMDMARTLx look like? Any rare or missing values?\n",
    "#print(da_mod.DMDMARTLx.value_counts(dropna=False))\n",
    "\n",
    "dx = da_mod.loc[~da_mod.DMDMARTLx.isin([\"Refused\", np.nan]), :]  # drop rare/missing values\n",
    "dx = dx.groupby([\"agegrp\"])[\"DMDMARTLx\"]\n",
    "dx = dx.value_counts()\n",
    "dx = dx.unstack() # Restructure the results from 'long' to 'wide'\n",
    "dx = dx.apply(lambda x: x/x.sum(), axis=1) # Normalize within each stratum to get proportions\n",
    "print(\"Males\")\n",
    "print(dx.to_string(float_format=\"%.3f\"))  # Limit display to 3 decimal places\n",
    "\n",
    "# alternative that replaces NaN with 0\n",
    "#print(dx.fillna(0).to_string(float_format=\"%.3f\"))"
   ]
  },
  {
   "cell_type": "markdown",
   "metadata": {
    "id": "XtSa8HNwegzL"
   },
   "source": [
    "__Q2c.__ Comment on any notable differences that you see when comparing these results between females and for males."
   ]
  },
  {
   "cell_type": "raw",
   "metadata": {
    "id": "OWbXvkOGpEWf"
   },
   "source": []
  },
  {
   "cell_type": "markdown",
   "metadata": {
    "id": "v8e1ML7YegzL"
   },
   "source": [
    "## Question 3\n",
    "\n",
    "Use histplot to generate a histogram of the distribution of heights using the [BMXHT](https://wwwn.cdc.gov/Nchs/Nhanes/2015-2016/BMX_I.htm#BMXHT) variable.\n",
    "\n",
    "https://wwwn.cdc.gov/Nchs/Nhanes/2015-2016/BMX_I.htm\n",
    "\n",
    "https://seaborn.pydata.org/generated/seaborn.histplot.html"
   ]
  },
  {
   "cell_type": "code",
   "execution_count": null,
   "metadata": {
    "id": "S2lADmN1npXZ"
   },
   "outputs": [],
   "source": [
    "# if necessary reload the nhanes csv file to avoid possible data \"contamination\" from previous work\n",
    "da = pd.read_csv(\"nhanes_2015_2016.csv\")"
   ]
  },
  {
   "cell_type": "code",
   "execution_count": null,
   "metadata": {
    "id": "YOjmJbprpy79"
   },
   "outputs": [],
   "source": [
    "# make copy of the dataframe to protect the original\n",
    "da_mod = da.copy()\n",
    "\n",
    "# relabel RIAGENDR\n",
    "rgen = {1: \"Male\", 2: \"Female\"}\n",
    "da_mod[\"RIAGENDRx\"] = da_mod[\"RIAGENDR\"].replace(rgen)"
   ]
  },
  {
   "cell_type": "code",
   "execution_count": null,
   "metadata": {
    "id": "7F1Xm1CIegzM"
   },
   "outputs": [],
   "source": [
    "# entire sample\n",
    "sns.histplot(da_mod.BMXHT)"
   ]
  },
  {
   "cell_type": "markdown",
   "metadata": {
    "id": "VtyVlCr4egzN"
   },
   "source": [
    "__Q3a.__ Use the bins argument to histplot to produce histograms with different numbers of bins.  Assess whether the default value for this argument gives a meaningful result. What happens as the number of bins grows excessively large or excessively small?\n",
    "\n",
    "https://numpy.org/doc/stable/reference/generated/numpy.histogram_bin_edges.html#numpy.histogram_bin_edges"
   ]
  },
  {
   "cell_type": "raw",
   "metadata": {
    "id": "vCYJ-PLHpRWw"
   },
   "source": []
  },
  {
   "cell_type": "code",
   "execution_count": null,
   "metadata": {
    "id": "KzGKAwiwegzN"
   },
   "outputs": [],
   "source": [
    "# bins = 4\n",
    "sns.histplot(da_mod.BMXHT, bins=4)"
   ]
  },
  {
   "cell_type": "code",
   "execution_count": null,
   "metadata": {
    "id": "oQSCkRp_hmJ_"
   },
   "outputs": [],
   "source": [
    "# bins = 400\n",
    "sns.histplot(da_mod.BMXHT, bins=400)"
   ]
  },
  {
   "cell_type": "markdown",
   "metadata": {
    "id": "IewDrIQPegzN"
   },
   "source": [
    "__Q3b.__ Make separate histograms for the heights of women and men, then make a side-by-side boxplot showing the heights of women and men.\n",
    "\n",
    "https://seaborn.pydata.org/generated/seaborn.boxplot.html"
   ]
  },
  {
   "cell_type": "code",
   "execution_count": null,
   "metadata": {
    "id": "lholXgJLegzO"
   },
   "outputs": [],
   "source": [
    "# histogram of female BMXHT\n",
    "dafem = da_mod.query('RIAGENDR == 2')\n",
    "sns.histplot(data=dafem.BMXHT)"
   ]
  },
  {
   "cell_type": "code",
   "execution_count": null,
   "metadata": {
    "id": "88zSutK1mU4X"
   },
   "outputs": [],
   "source": [
    "# histogram of male BMXHT\n",
    "damal = da_mod.query('RIAGENDR == 1')\n",
    "sns.histplot(data=damal.BMXHT)"
   ]
  },
  {
   "cell_type": "code",
   "execution_count": null,
   "metadata": {
    "id": "y_1um-FqmjwK"
   },
   "outputs": [],
   "source": [
    "# boxplot of BMXHT by RIAGENDRx\n",
    "sns.boxplot(data=da_mod, x=\"BMXHT\", y=\"RIAGENDRx\")"
   ]
  },
  {
   "cell_type": "markdown",
   "metadata": {
    "id": "P2683Q6EegzO"
   },
   "source": [
    "__Q3c.__ What features (if any) are not represented clearly in the boxplots, and what features (if any) are easier to see in the boxplots than in the histograms?"
   ]
  },
  {
   "cell_type": "raw",
   "metadata": {
    "id": "6dYnm4fkqest"
   },
   "source": []
  },
  {
   "cell_type": "markdown",
   "metadata": {
    "id": "HjVHEskpegzO"
   },
   "source": [
    "## Question 4\n",
    "\n",
    "Make a boxplot showing the distribution of within-subject differences between the first and second systolic blood pressure measurents ([BPXSY1](https://wwwn.cdc.gov/Nchs/Nhanes/2015-2016/BPX_I.htm#BPXSY1) and [BPXSY2](https://wwwn.cdc.gov/Nchs/Nhanes/2015-2016/BPX_I.htm#BPXSY2)).\n",
    "\n",
    "https://wwwn.cdc.gov/Nchs/Nhanes/2015-2016/BPX_I.htm"
   ]
  },
  {
   "cell_type": "code",
   "execution_count": null,
   "metadata": {
    "id": "jiJXBd0aqxbe"
   },
   "outputs": [],
   "source": [
    "# if necessary reload the nhanes csv file to avoid possible data \"contamination\" from previous work\n",
    "da = pd.read_csv(\"nhanes_2015_2016.csv\")"
   ]
  },
  {
   "cell_type": "code",
   "execution_count": null,
   "metadata": {
    "id": "Tg4_eo_eq2SZ"
   },
   "outputs": [],
   "source": [
    "# make copy of the dataframe to protect the original\n",
    "da_mod = da.copy()"
   ]
  },
  {
   "cell_type": "code",
   "execution_count": null,
   "metadata": {
    "id": "vCxrXPxBegzO"
   },
   "outputs": [],
   "source": [
    "# boxplot of difference between BPXSY1 and BPXSY2\n",
    "da_mod[\"BP Diff\"] = da_mod.BPXSY1 - da.BPXSY2\n",
    "sns.boxplot(data=da_mod[[\"BP Diff\"]], orient=\"h\")"
   ]
  },
  {
   "cell_type": "markdown",
   "metadata": {
    "id": "3Kb44CCDegzP"
   },
   "source": [
    "__Q4a.__ What proportion of the subjects have a lower SBP on the second reading compared to the first?"
   ]
  },
  {
   "cell_type": "code",
   "execution_count": null,
   "metadata": {
    "id": "I7GSVsxSegzP"
   },
   "outputs": [],
   "source": [
    "# create a boolean variable that is True if \"BP Diff\" is positive and False if \"BP Diff\" is negative\n",
    "lower_second = (da_mod[\"BP Diff\"].dropna() > 0)\n",
    "\n",
    "# Booleans are either True or False but...\n",
    "# internally Python stores True values as 1 and False values as 0...\n",
    "# so taking the average of a Boolean variable will give us the proportion of 1 values (True values)\n",
    "print(np.mean(lower_second))\n",
    "\n",
    "# another way to measure the proportion of True and False values\n",
    "#print(lower_second.value_counts(normalize=True))"
   ]
  },
  {
   "cell_type": "markdown",
   "metadata": {
    "id": "zFfp08rCegzP"
   },
   "source": [
    "__Q4b.__ Make side-by-side boxplots of the two systolic blood pressure variables."
   ]
  },
  {
   "cell_type": "code",
   "execution_count": null,
   "metadata": {
    "id": "DIv7uANbegzP"
   },
   "outputs": [],
   "source": [
    "# boxplot to compare BPXSY1 and BPXSY2\n",
    "sns.boxplot(data=da_mod.loc[:,[\"BPXSY1\", \"BPXSY2\"]], orient='h')\n",
    "plt.show()"
   ]
  },
  {
   "cell_type": "markdown",
   "metadata": {
    "id": "JISytG09egzP"
   },
   "source": [
    "__Q4c.__ Comment on the systolic blood pressure measurement variation (either BPXSY1 or BPXSY2) and the within-subject difference variation."
   ]
  },
  {
   "cell_type": "code",
   "execution_count": null,
   "metadata": {
    "id": "ChTgRLdxxONF"
   },
   "outputs": [],
   "source": [
    "# Numerical summaries might also be helpful in this instance\n",
    "print(da_mod.BPXSY1.describe(), \"\\n\")\n",
    "print(da_mod.BPXSY2.describe(), \"\\n\")\n",
    "print(da_mod[\"BP Diff\"].describe())"
   ]
  },
  {
   "cell_type": "raw",
   "metadata": {
    "id": "RyO7E7wvxKes"
   },
   "source": []
  },
  {
   "cell_type": "markdown",
   "metadata": {
    "id": "CydkZl_6egzQ"
   },
   "source": [
    "## Question 5\n",
    "\n",
    "Construct a frequency table of household sizes for people within each educational attainment category (the relevant variable is [DMDEDUC2](https://wwwn.cdc.gov/Nchs/Nhanes/2015-2016/DEMO_I.htm#DMDEDUC2)).\n",
    "\n",
    "Convert the frequencies to proportions.\n",
    "\n",
    "https://wwwn.cdc.gov/Nchs/Nhanes/2015-2016/DEMO_I.htm\n",
    "\n",
    "https://pandas.pydata.org/docs/reference/api/pandas.crosstab.html"
   ]
  },
  {
   "cell_type": "code",
   "execution_count": null,
   "metadata": {
    "id": "ZZ24GO-I0dr5"
   },
   "outputs": [],
   "source": [
    "# if necessary reload the nhanes csv file to avoid possible data \"contamination\" from previous work\n",
    "da = pd.read_csv(\"nhanes_2015_2016.csv\")"
   ]
  },
  {
   "cell_type": "code",
   "execution_count": null,
   "metadata": {
    "id": "svrCyNxf0eGL"
   },
   "outputs": [],
   "source": [
    "# make copy of the dataframe to protect the original\n",
    "da_mod = da.copy()"
   ]
  },
  {
   "cell_type": "code",
   "execution_count": null,
   "metadata": {
    "id": "7n4NrwtMegzQ"
   },
   "outputs": [],
   "source": [
    "# frequency (counts) table\n",
    "pd.crosstab(da_mod.DMDEDUC2,da_mod.DMDHHSIZ)"
   ]
  },
  {
   "cell_type": "code",
   "execution_count": null,
   "metadata": {
    "id": "s9ctoEYPsNpS"
   },
   "outputs": [],
   "source": [
    "# normalized (by row) freqency table\n",
    "pd.crosstab(da_mod.DMDEDUC2,da_mod.DMDHHSIZ, margins=True, normalize='index')"
   ]
  },
  {
   "cell_type": "markdown",
   "metadata": {
    "id": "e_ClaWejegzR"
   },
   "source": [
    "__Q5a.__ Comment on any major differences among the distributions."
   ]
  },
  {
   "cell_type": "raw",
   "metadata": {
    "id": "MsOUG6zb3nlM"
   },
   "source": []
  },
  {
   "cell_type": "markdown",
   "metadata": {
    "id": "OiMT7Qx8egzS"
   },
   "source": [
    "__Q5b.__ Restrict the sample to people between 30 and 40 years of age.  Then calculate the median household size for women and men within each level of educational attainment."
   ]
  },
  {
   "cell_type": "code",
   "execution_count": null,
   "metadata": {
    "id": "hSxoI87j3twg"
   },
   "outputs": [],
   "source": [
    "# if necessary reload the nhanes csv file to avoid possible data \"contamination\" from previous work\n",
    "da = pd.read_csv(\"nhanes_2015_2016.csv\")"
   ]
  },
  {
   "cell_type": "code",
   "execution_count": null,
   "metadata": {
    "id": "p5qNAilP3uA-"
   },
   "outputs": [],
   "source": [
    "# make copy of the dataframe to protect the original\n",
    "da_mod = da.copy()\n",
    "\n",
    "# relabel RIAGENDR\n",
    "rgen = {1: \"Male\", 2: \"Female\"}\n",
    "da_mod[\"RIAGENDRx\"] = da_mod[\"RIAGENDR\"].replace(rgen)\n",
    "\n",
    "# relabel DMDEDUC2\n",
    "redu = {1: \"1) LT 9\", 2: \"2) 9 to 11\", 3: \"3) HS or GED\", 4: \"4) Some college or AA\", 5: \"5) College\", 7: \"7) Refused\", 9: \"9) Don't know\"}\n",
    "da_mod[\"DMDEDUC2x\"] = da_mod.DMDEDUC2.replace(redu)\n",
    "\n",
    "# drop the variables that we don't need\n",
    "da_mod = da_mod[[\"RIAGENDRx\", \"RIDAGEYR\", \"DMDEDUC2x\", \"DMDHHSIZ\"]]"
   ]
  },
  {
   "cell_type": "code",
   "execution_count": null,
   "metadata": {
    "id": "doBbE66oN991"
   },
   "outputs": [],
   "source": [
    "# create a closed interval range from 30 to 40\n",
    "binrange = pd.interval_range(start=30, end=40, periods=1, closed='both')\n",
    "\n",
    "# create the 30-40 'bin' variable\n",
    "da_mod[\"agegrp\"] = pd.cut(da_mod.RIDAGEYR, binrange)\n",
    "\n",
    "# what does DMDEDUC2x look like?\n",
    "#print(da_mod.DMDEDUC2x.value_counts())\n",
    "\n",
    "# drop rare or missing values\n",
    "da_mod = da_mod.loc[~da_mod.DMDEDUC2x.isin([\"7) Refused\", \"9) Don't know\"]), :]\n",
    "\n",
    "# median by RIAGENDRx and DMDEDUC2x\n",
    "dx = da_mod.groupby([\"agegrp\", \"RIAGENDRx\", \"DMDEDUC2x\"])[\"DMDHHSIZ\"].median()\n",
    "print(dx)\n",
    "\n",
    "# another way to isolate subjects between 30 and 40 years old\n",
    "#da3040 = da_mod.query('RIDAGEYR >= 30 & RIDAGEYR <= 40').copy()\n",
    "\n",
    "# median by RIAGENDRx and DMDEDUC2x\n",
    "#print(da3040.groupby([\"RIAGENDRx\", \"DMDEDUC2x\"])[\"DMDHHSIZ\"].median())"
   ]
  },
  {
   "cell_type": "markdown",
   "metadata": {
    "id": "UzpQMGK3egzS"
   },
   "source": [
    "## Question 6\n",
    "\n",
    "The participants can be clustered into \"masked variance units\" (MVU) based on every combination of the variables [SDMVSTRA](https://wwwn.cdc.gov/Nchs/Nhanes/2015-2016/DEMO_I.htm#SDMVSTRA) and [SDMVPSU](https://wwwn.cdc.gov/Nchs/Nhanes/2015-2016/DEMO_I.htm#SDMVPSU).  Calculate the mean age ([RIDAGEYR](https://wwwn.cdc.gov/Nchs/Nhanes/2015-2016/DEMO_I.htm#RIDAGEYR)), height ([BMXHT](https://wwwn.cdc.gov/Nchs/Nhanes/2015-2016/BMX_I.htm#BMXHT)), and BMI ([BMXBMI](https://wwwn.cdc.gov/Nchs/Nhanes/2015-2016/BMX_I.htm#BMXBMI)) for each gender ([RIAGENDR](https://wwwn.cdc.gov/Nchs/Nhanes/2015-2016/DEMO_I.htm#RIAGENDR)), within each MVU. Report the ratio between the largest and smallest mean (e.g. for height) for each gender across the MVUs.\n",
    "\n",
    "Note: SDMVSTRA and SDMVPSU are not used this way in a real-world analysis. Their intended use within NHANES is for complex variation estimation.\n",
    "\n",
    "https://wwwn.cdc.gov/Nchs/Nhanes/2015-2016/DEMO_I.htm\n",
    "\n",
    "https://pandas.pydata.org/docs/reference/api/pandas.DataFrame.min.html\n",
    "\n",
    "https://pandas.pydata.org/docs/reference/api/pandas.DataFrame.max.html"
   ]
  },
  {
   "cell_type": "code",
   "execution_count": null,
   "metadata": {
    "id": "h28yJYnS9Mfl"
   },
   "outputs": [],
   "source": [
    "# if necessary reload the nhanes csv file to avoid possible data \"contamination\" from previous work\n",
    "da = pd.read_csv(\"nhanes_2015_2016.csv\")"
   ]
  },
  {
   "cell_type": "code",
   "execution_count": null,
   "metadata": {
    "id": "LRTap2Yg9M1X"
   },
   "outputs": [],
   "source": [
    "# make copy of the dataframe to protect the original\n",
    "da_mod = da.copy()\n",
    "\n",
    "# separate into two dataframes by RIAGENDRx\n",
    "dam = da_mod.where(da_mod.RIAGENDR == 1)\n",
    "daf = da_mod.where(da_mod.RIAGENDR == 2)\n",
    "\n",
    "# drop the variables that we don't need\n",
    "dam = dam[[\"SDMVSTRA\", \"SDMVPSU\", \"RIDAGEYR\", \"BMXHT\", \"BMXBMI\"]]\n",
    "daf = daf[[\"SDMVSTRA\", \"SDMVPSU\", \"RIDAGEYR\", \"BMXHT\", \"BMXBMI\"]]"
   ]
  },
  {
   "cell_type": "code",
   "execution_count": null,
   "metadata": {
    "id": "uJKBI6nJcDky"
   },
   "outputs": [],
   "source": [
    "# Analysis for Males\n",
    "\n",
    "# calculate the mean for RIDAGEYR, BMXHT and BMXBMI for each MVU\n",
    "da_mean = dam.groupby(['SDMVPSU', 'SDMVSTRA']).mean()\n",
    "\n",
    "# calculate and print the BMXHT mean ratio\n",
    "ratio_height_mean = da_mean['BMXHT'].max()/da_mean['BMXHT'].min()\n",
    "print(\"Males\")\n",
    "print(round(ratio_height_mean, 3), \" (Height)\")\n",
    "\n",
    "# calculate and print the RIDAGEYR mean ratio\n",
    "ratio_age_mean = da_mean['RIDAGEYR'].max()/da_mean['RIDAGEYR'].min()\n",
    "print(round(ratio_age_mean, 3), \" (Age)\")\n",
    "\n",
    "# calculate and print the BMXBMI mean ratio\n",
    "ratio_bmi_mean = da_mean['BMXBMI'].max()/da_mean['BMXBMI'].min()\n",
    "print(round(ratio_bmi_mean, 3), \" (BMI)\")\n",
    "\n",
    "# Analysis for Females\n",
    "\n",
    "# calculate the mean for RIDAGEYR, BMXHT and BMXBMI across MVUs\n",
    "da_mean = daf.groupby(['SDMVPSU', 'SDMVSTRA']).mean()\n",
    "\n",
    "# calculate and print the BMXHT mean ratio\n",
    "ratio_height_mean = da_mean['BMXHT'].max()/da_mean['BMXHT'].min()\n",
    "print(\"\\nFemales\")\n",
    "print(round(ratio_height_mean, 3), \" (Height)\")\n",
    "\n",
    "# calculate and print the RIDAGEYR rmean atio\n",
    "ratio_age_mean = da_mean['RIDAGEYR'].max()/da_mean['RIDAGEYR'].min()\n",
    "print(round(ratio_age_mean, 3), \" (Age)\")\n",
    "\n",
    "# calculate and print the BMXBMI mean ratio\n",
    "ratio_bmi_mean = da_mean['BMXBMI'].max()/da_mean['BMXBMI'].min()\n",
    "print(round(ratio_bmi_mean, 3), \" (BMI)\")"
   ]
  },
  {
   "cell_type": "markdown",
   "metadata": {
    "id": "Qv9b14NIegzT"
   },
   "source": [
    "__Q6a.__ Comment on the extent to which mean age, height, and BMI vary across the MVUs for males and females."
   ]
  },
  {
   "cell_type": "raw",
   "metadata": {
    "id": "go2McXxZDMDL"
   },
   "source": []
  },
  {
   "cell_type": "markdown",
   "metadata": {
    "id": "yzXD8-GZegzT"
   },
   "source": [
    "__Q6b.__ Calculate the inter-quartile range (IQR) for age, height, and BMI for each gender and each MVU.  Report the ratio between the largest and smallest IQR across the MVUs.\n",
    "\n",
    "https://pandas.pydata.org/docs/reference/api/pandas.core.groupby.DataFrameGroupBy.quantile.html\n"
   ]
  },
  {
   "cell_type": "code",
   "execution_count": null,
   "metadata": {
    "id": "KPT969hNFIe_"
   },
   "outputs": [],
   "source": [
    "# Males\n",
    "\n",
    "# calculate the 2nd and 3rd quintiles for RIDAGEYR, BMXHT and BMXBMI for each MVU\n",
    "da_q3 = dam.groupby(['SDMVPSU', 'SDMVSTRA']).quantile(.75, numeric_only=True)\n",
    "da_q1 = dam.groupby(['SDMVPSU', 'SDMVSTRA']).quantile(.25, numeric_only=True)\n",
    "\n",
    "# calculate the IQR for RIDAGEYR, BMXHT and BMXBMI\n",
    "da_iqr = da_q3 - da_q1\n",
    "\n",
    "# calculate and print the BMXHT iqr ratio\n",
    "ratio_height_iqr = da_iqr['BMXHT'].max()/da_iqr['BMXHT'].min()\n",
    "print(\"Males\")\n",
    "print(round(ratio_height_iqr, 3), \" (Height)\")\n",
    "\n",
    "# calculate and print the RIDAGEYR iqr ratio\n",
    "ratio_age_iqr = da_iqr['RIDAGEYR'].max()/da_iqr['RIDAGEYR'].min()\n",
    "print(round(ratio_age_iqr, 3), \" (Age)\")\n",
    "\n",
    "# calculate and print the BMXBMI iqr ratio\n",
    "ratio_bmi_iqr = da_iqr['BMXBMI'].max()/da_iqr['BMXBMI'].min()\n",
    "print(round(ratio_bmi_iqr, 3), \" (BMI)\")\n",
    "\n",
    "# Females\n",
    "\n",
    "# calculate the 2nd and 3rd quintiles for RIDAGEYR, BMXHT and BMXBMI across MVUs\n",
    "da_q3 = daf.groupby(['SDMVPSU', 'SDMVSTRA']).quantile(.75, numeric_only=True)\n",
    "da_q1 = daf.groupby(['SDMVPSU', 'SDMVSTRA']).quantile(.25, numeric_only=True)\n",
    "\n",
    "# calculate the IQR for RIDAGEYR, BMXHT and BMXBMI\n",
    "da_iqr = da_q3 - da_q1\n",
    "\n",
    "# calculate and print the BMXHT iqr ratio\n",
    "ratio_height_iqr = da_iqr['BMXHT'].max()/da_iqr['BMXHT'].min()\n",
    "print(\"\\nFemales\")\n",
    "print(round(ratio_height_iqr, 3), \" (Height)\")\n",
    "\n",
    "# calculate and print the RIDAGEYR iqr ratio\n",
    "ratio_age_iqr = da_iqr['RIDAGEYR'].max()/da_iqr['RIDAGEYR'].min()\n",
    "print(round(ratio_age_iqr, 3), \" (Age)\")\n",
    "\n",
    "# calculate and print the BMXBMI iqr ratio\n",
    "ratio_bmi_iqr = da_iqr['BMXBMI'].max()/da_iqr['BMXBMI'].min()\n",
    "print(round(ratio_bmi_iqr, 3), \" (BMI)\")\n"
   ]
  },
  {
   "cell_type": "markdown",
   "metadata": {
    "id": "8ko8DJyregzU"
   },
   "source": [
    "__Q6c.__ Comment on the extent to which the IQR for age, height, and BMI vary across the MVUs for males and females."
   ]
  },
  {
   "cell_type": "raw",
   "metadata": {
    "id": "TXDXIlSMEcfR"
   },
   "source": []
  }
 ],
 "metadata": {
  "colab": {
   "provenance": []
  },
  "kernelspec": {
   "display_name": "Python 3",
   "language": "python",
   "name": "python3"
  },
  "language_info": {
   "codemirror_mode": {
    "name": "ipython",
    "version": 3
   },
   "file_extension": ".py",
   "mimetype": "text/x-python",
   "name": "python",
   "nbconvert_exporter": "python",
   "pygments_lexer": "ipython3",
   "version": "3.6.3"
  }
 },
 "nbformat": 4,
 "nbformat_minor": 1
}
